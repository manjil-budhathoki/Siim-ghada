{
 "cells": [
  {
   "cell_type": "code",
   "execution_count": 6,
   "metadata": {},
   "outputs": [
    {
     "name": "stdout",
     "output_type": "stream",
     "text": [
      "Starting training...\n",
      "Warning: No face detected in simran1_aug_1_face_0.jpg. Skipping...\n",
      "Warning: No face detected in simran2_aug_0.jpg. Skipping...\n",
      "Warning: No face detected in simran2_aug_1.jpg. Skipping...\n",
      "Warning: No face detected in simran2_aug_2.jpg. Skipping...\n",
      "Warning: No face detected in simran2_aug_3.jpg. Skipping...\n",
      "Warning: No face detected in simran2_aug_4.jpg. Skipping...\n",
      "Warning: No face detected in simran2_aug_5.jpg. Skipping...\n",
      "Warning: No face detected in simran2_aug_6.jpg. Skipping...\n",
      "Warning: No face detected in simran2_aug_7.jpg. Skipping...\n",
      "Warning: No face detected in simran2_aug_8.jpg. Skipping...\n",
      "Warning: No face detected in simran2_aug_9.jpg. Skipping...\n",
      "Warning: No face detected in simran3_aug_0.jpg. Skipping...\n",
      "Warning: No face detected in simran3_aug_1.jpg. Skipping...\n",
      "Warning: No face detected in simran3_aug_2.jpg. Skipping...\n",
      "Warning: No face detected in simran3_aug_3.jpg. Skipping...\n",
      "Warning: No face detected in simran3_aug_4.jpg. Skipping...\n",
      "Warning: No face detected in simran3_aug_5.jpg. Skipping...\n",
      "Warning: No face detected in simran3_aug_6.jpg. Skipping...\n",
      "Warning: No face detected in simran3_aug_7.jpg. Skipping...\n",
      "Warning: No face detected in simran3_aug_8.jpg. Skipping...\n",
      "Warning: No face detected in simran3_aug_9.jpg. Skipping...\n",
      "Warning: No face detected in simran4_aug_0_face_0.jpg. Skipping...\n",
      "Warning: No face detected in simran4_aug_3.jpg. Skipping...\n",
      "Warning: No face detected in simran4_aug_4.jpg. Skipping...\n",
      "Warning: No face detected in simran4_aug_6.jpg. Skipping...\n",
      "Warning: No face detected in simran4_aug_7.jpg. Skipping...\n",
      "Warning: No face detected in simran4_aug_8.jpg. Skipping...\n",
      "Warning: No face detected in simran4_aug_9.jpg. Skipping...\n",
      "Saving encodings to trained_encodings.pkl\n",
      "Training complete!\n"
     ]
    }
   ],
   "source": [
    "import cv2\n",
    "import face_recognition\n",
    "import os\n",
    "import pickle\n",
    "\n",
    "# --- Training Configuration ---\n",
    "trained_dataset_dir = \"cropped_data\"  \n",
    "encodings_file = \"trained_encodings.pkl\"\n",
    "\n",
    "# --- Training Phase ---\n",
    "known_face_encodings = []\n",
    "known_face_names = []\n",
    "\n",
    "print(\"Starting training...\")\n",
    "for filename in os.listdir(trained_dataset_dir):\n",
    "    if filename.endswith((\".jpg\", \".jpeg\", \".png\")):\n",
    "        image_path = os.path.join(trained_dataset_dir, filename)\n",
    "        image = face_recognition.load_image_file(image_path)\n",
    "\n",
    "        try:\n",
    "            face_encoding = face_recognition.face_encodings(image)[0]\n",
    "            known_face_encodings.append(face_encoding)\n",
    "            known_face_names.append(\"Simran\") # Replace with your person's name\n",
    "        except IndexError:\n",
    "            print(f\"Warning: No face detected in {filename}. Skipping...\")\n",
    "\n",
    "# Save the encodings\n",
    "print(\"Saving encodings to\", encodings_file)\n",
    "with open(encodings_file, \"wb\") as f:\n",
    "    pickle.dump({\"encodings\": known_face_encodings, \"names\": known_face_names}, f)\n",
    "\n",
    "print(\"Training complete!\")"
   ]
  }
 ],
 "metadata": {
  "kernelspec": {
   "display_name": "Python 3",
   "language": "python",
   "name": "python3"
  },
  "language_info": {
   "codemirror_mode": {
    "name": "ipython",
    "version": 3
   },
   "file_extension": ".py",
   "mimetype": "text/x-python",
   "name": "python",
   "nbconvert_exporter": "python",
   "pygments_lexer": "ipython3",
   "version": "3.11.4"
  }
 },
 "nbformat": 4,
 "nbformat_minor": 2
}
